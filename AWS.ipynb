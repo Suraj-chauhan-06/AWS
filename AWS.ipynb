{
  "nbformat": 4,
  "nbformat_minor": 0,
  "metadata": {
    "colab": {
      "provenance": []
    },
    "kernelspec": {
      "name": "python3",
      "display_name": "Python 3"
    },
    "language_info": {
      "name": "python"
    }
  },
  "cells": [
    {
      "cell_type": "markdown",
      "source": [
        "1. Difference between AWS Regions, Availability Zones, and Edge Locations\n",
        "\n",
        "Regions: Geographically isolated locations like us-east-1, ap-south-1.\n",
        "\n",
        "Availability Zones (AZs): Multiple isolated data centers within a region (e.g., ap-south-1a, ap-south-1b).\n",
        "\n",
        "Edge Locations: CDN endpoints used by CloudFront to cache content closer to users.\n",
        "\n",
        "Importance: Crucial for reducing latency, enabling high availability, and disaster recovery in analytics workloads."
      ],
      "metadata": {
        "id": "ceLHSW7I8Zhk"
      }
    },
    {
      "cell_type": "code",
      "source": [
        "#2. AWS CLI to List All Regions\n",
        "\n",
        "aws ec2 describe-regions --query \"Regions[*].RegionName\" --output table\n"
      ],
      "metadata": {
        "id": "XNpaC7uK8b-G"
      },
      "execution_count": null,
      "outputs": []
    },
    {
      "cell_type": "code",
      "source": [
        "#3. Create IAM User with Least Privilege (for S3)\n",
        "\n",
        "{\n",
        "  \"Version\": \"2012-10-17\",\n",
        "  \"Statement\": [\n",
        "    {\n",
        "      \"Effect\": \"Allow\",\n",
        "      \"Action\": [\"s3:ListBucket\", \"s3:GetObject\", \"s3:PutObject\"],\n",
        "      \"Resource\": [\n",
        "        \"arn:aws:s3:::your-bucket-name\",\n",
        "        \"arn:aws:s3:::your-bucket-name/*\"\n",
        "      ]\n",
        "    }\n",
        "  ]\n",
        "}\n"
      ],
      "metadata": {
        "id": "naEigJHV8pnV"
      },
      "execution_count": null,
      "outputs": []
    },
    {
      "cell_type": "markdown",
      "source": [
        "4. Compare S3 Storage Classes\n",
        "\n",
        "| Storage Class          | Description                     | When to Use                            |\n",
        "| ---------------------- | ------------------------------- | -------------------------------------- |\n",
        "| S3 Standard            | Default, for frequent access    | Daily analytics, active datasets       |\n",
        "| S3 Intelligent-Tiering | Auto-moves data based on access | When access frequency is unpredictable |\n",
        "| S3 Glacier             | Low-cost archival storage       | Infrequently accessed backups          |\n"
      ],
      "metadata": {
        "id": "l9ozK4To8ubd"
      }
    },
    {
      "cell_type": "code",
      "source": [
        "#5. Create S3 Bucket & Enable Versioning\n",
        "\n",
        "aws s3api create-bucket --bucket my-analytics-bucket --region ap-south-1\n",
        "\n",
        "aws s3api put-bucket-versioning --bucket my-analytics-bucket \\\n",
        "--versioning-configuration Status=Enabled\n",
        "\n",
        "aws s3 cp data.csv s3://my-analytics-bucket/\n",
        "aws s3 cp data_v2.csv s3://my-analytics-bucket/data.csv\n"
      ],
      "metadata": {
        "id": "cERG1ibJ82NM"
      },
      "execution_count": null,
      "outputs": []
    },
    {
      "cell_type": "code",
      "source": [
        "#6. Lifecycle Policy for Glacier + Deletion\n",
        "\n",
        "{\n",
        "  \"Rules\": [\n",
        "    {\n",
        "      \"ID\": \"GlacierAfter30Days\",\n",
        "      \"Status\": \"Enabled\",\n",
        "      \"Filter\": {},\n",
        "      \"Transitions\": [\n",
        "        {\n",
        "          \"Days\": 30,\n",
        "          \"StorageClass\": \"GLACIER\"\n",
        "        }\n",
        "      ],\n",
        "      \"Expiration\": {\n",
        "        \"Days\": 90\n",
        "      }\n",
        "    }\n",
        "  ]\n",
        "}\n"
      ],
      "metadata": {
        "id": "1Cmne2Nu86me"
      },
      "execution_count": null,
      "outputs": []
    },
    {
      "cell_type": "markdown",
      "source": [
        "7. Compare RDS, DynamoDB, and Redshift\n",
        "\n",
        "| Service  | Type       | Best Use Case                          |\n",
        "| -------- | ---------- | -------------------------------------- |\n",
        "| RDS      | Relational | Transactional systems (OLTP)           |\n",
        "| DynamoDB | NoSQL      | Real-time apps, IoT, key-value storage |\n",
        "| Redshift | Columnar   | Large-scale data analytics (OLAP)      |\n"
      ],
      "metadata": {
        "id": "Rz1lrOaW9AUK"
      }
    },
    {
      "cell_type": "code",
      "source": [
        "#8. DynamoDB + Lambda Triggered by S3 Upload\n",
        "\n",
        "aws dynamodb create-table \\\n",
        "--table-name UploadLogs \\\n",
        "--attribute-definitions AttributeName=ID,AttributeType=S \\\n",
        "--key-schema AttributeName=ID,KeyType=HASH \\\n",
        "--billing-mode PAY_PER_REQUEST\n",
        "\n",
        "\n",
        "\n",
        "import boto3\n",
        "import time\n",
        "\n",
        "def lambda_handler(event, context):\n",
        "    dynamodb = boto3.resource('dynamodb')\n",
        "    table = dynamodb.Table('UploadLogs')\n",
        "    for record in event['Records']:\n",
        "        table.put_item(Item={\n",
        "            'ID': str(time.time()),\n",
        "            'FileName': record['s3']['object']['key']\n",
        "        })\n",
        "    return {\"status\": \"logged\"}\n"
      ],
      "metadata": {
        "id": "y7uc1dSD9P7Y"
      },
      "execution_count": null,
      "outputs": []
    },
    {
      "cell_type": "markdown",
      "source": [
        "9. What is Serverless Computing? Pros/Cons of Lambda\n",
        "\n",
        "Serverless = No server management. AWS manages the backend.\n",
        "\n",
        "Pros:\n",
        "\n",
        "Pay per execution\n",
        "\n",
        "No infrastructure overhead\n",
        "\n",
        "Highly scalable\n",
        "\n",
        "Cons:\n",
        "\n",
        "Cold starts\n",
        "\n",
        "Limited runtime (15 min)"
      ],
      "metadata": {
        "id": "i8kgRdTE9ZPR"
      }
    },
    {
      "cell_type": "code",
      "source": [
        "#10. Lambda Logs File Name, Size to CloudWatch\n",
        "\n",
        "def lambda_handler(event, context):\n",
        "    for record in event['Records']:\n",
        "        key = record['s3']['object']['key']\n",
        "        size = record['s3']['object']['size']\n",
        "        print(f\"File: {key}, Size: {size}, Time: {record['eventTime']}\")\n"
      ],
      "metadata": {
        "id": "eDVD4G5n9c4c"
      },
      "execution_count": null,
      "outputs": []
    },
    {
      "cell_type": "code",
      "source": [
        "#11. AWS Glue – Convert CSV to Parquet\n",
        "\n",
        "from awsglue.context import GlueContext\n",
        "from pyspark.context import SparkContext\n",
        "\n",
        "glueContext = GlueContext(SparkContext.getOrCreate())\n",
        "df = glueContext.create_dynamic_frame.from_catalog(database=\"mydb\", table_name=\"csv_data\")\n",
        "df.toDF().write.parquet(\"s3://my-output-bucket/parquet/\")\n"
      ],
      "metadata": {
        "id": "2dX_sccx9i4r"
      },
      "execution_count": null,
      "outputs": []
    },
    {
      "cell_type": "markdown",
      "source": [
        "12. Kinesis Components Explained\n",
        "\n",
        "| Component            | Purpose                       | Example Use Case                  |\n",
        "| -------------------- | ----------------------------- | --------------------------------- |\n",
        "| Kinesis Data Streams | Real-time streaming ingestion | IoT, live sensor data             |\n",
        "| Kinesis Firehose     | Delivery to destinations      | Logs from app to S3/Redshift      |\n",
        "| Kinesis Analytics    | SQL on real-time streams      | Filter alerts from real-time logs |\n"
      ],
      "metadata": {
        "id": "ZS2z5roE9nso"
      }
    },
    {
      "cell_type": "markdown",
      "source": [
        "13. What is Columnar Storage? (Redshift)\n",
        "\n",
        "Redshift uses columnar storage to:\n",
        "\n",
        "Reduce I/O (scan only needed columns)\n",
        "\n",
        "Compress better\n",
        "\n",
        "Improve query performance\n",
        "\n",
        "Great for analytics queries over wide tables."
      ],
      "metadata": {
        "id": "5a5BQos69s7F"
      }
    },
    {
      "cell_type": "code",
      "source": [
        "#14. Load CSV into Redshift Using COPY\n",
        "\n",
        "CREATE TABLE sales (\n",
        "  id INT,\n",
        "  product VARCHAR(50),\n",
        "  price FLOAT\n",
        ");\n",
        "\n",
        "COPY sales\n",
        "FROM 's3://my-bucket/sales.csv'\n",
        "IAM_ROLE 'arn:aws:iam::123456789012:role/MyRedshiftRole'\n",
        "FORMAT AS CSV;\n"
      ],
      "metadata": {
        "id": "2GBF3AMR9xFF"
      },
      "execution_count": null,
      "outputs": []
    },
    {
      "cell_type": "markdown",
      "source": [
        "15. Glue Catalog + Athena: Schema-on-Read\n",
        "\n",
        "Glue Catalog stores schema metadata.\n",
        "\n",
        "Athena queries S3 data without moving it — using that metadata.\n"
      ],
      "metadata": {
        "id": "jdkveGNf91-1"
      }
    },
    {
      "cell_type": "code",
      "source": [
        "#16. Athena Table + Query Example\n",
        "\n",
        "CREATE EXTERNAL TABLE sales_data (\n",
        "  id INT,\n",
        "  product STRING,\n",
        "  price FLOAT\n",
        ")\n",
        "ROW FORMAT SERDE 'org.apache.hadoop.hive.serde2.lazy.LazySimpleSerDe'\n",
        "WITH SERDEPROPERTIES ('serialization.format' = ',')\n",
        "LOCATION 's3://your-bucket/sales/';\n"
      ],
      "metadata": {
        "id": "VES6nBJj969h"
      },
      "execution_count": null,
      "outputs": []
    },
    {
      "cell_type": "markdown",
      "source": [
        "17. Quicksight BI – SPICE + Embedded Dashboards\n",
        "\n",
        "SPICE: Super-fast in-memory engine for dashboards.\n",
        "\n",
        "Embedded Dashboards: Share insights in your apps (without login)."
      ],
      "metadata": {
        "id": "2yBi_qKQ9_n3"
      }
    },
    {
      "cell_type": "markdown",
      "source": [
        "18. Quicksight Dashboard Steps\n",
        "\n",
        "Connect to Athena table.\n",
        "\n",
        "Add a calculated field: Profit = Revenue - Cost.\n",
        "\n",
        "Add a region filter.\n",
        "\n",
        "Visualize using bar chart.\n",
        "\n",
        "Share or embed the dashboard."
      ],
      "metadata": {
        "id": "J_EiiHIX-DOM"
      }
    },
    {
      "cell_type": "markdown",
      "source": [
        "19. CloudWatch vs CloudTrail\n",
        "\n",
        "| Tool       | Monitors              | Purpose                              |\n",
        "| ---------- | --------------------- | ------------------------------------ |\n",
        "| CloudWatch | Logs, Metrics, Alarms | Health & performance monitoring      |\n",
        "| CloudTrail | API activity          | Auditing, compliance, investigations |\n"
      ],
      "metadata": {
        "id": "iPun04DL-HOD"
      }
    },
    {
      "cell_type": "code",
      "source": [
        "#20. End-to-End AWS Data Pipeline (Example)\n",
        "\n",
        "S3 (raw data) →\n",
        "Lambda (trigger) →\n",
        "Glue (ETL jobs) →\n",
        "Athena (SQL queries) →\n",
        "Quicksight (dashboards)\n"
      ],
      "metadata": {
        "id": "omfYxjV0-LxY"
      },
      "execution_count": null,
      "outputs": []
    }
  ]
}